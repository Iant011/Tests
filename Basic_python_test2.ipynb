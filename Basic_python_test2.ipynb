{
 "cells": [
  {
   "cell_type": "markdown",
   "id": "518a8132",
   "metadata": {},
   "source": [
    "# Theory\n",
    "1. **Basic Loop Structure:**\n",
    "   What is the fundamental structure of a `for` loop in Python, and how does it differ from a `while` loop?\n",
    "\n",
    "2. **Counting with `range()`:**\n",
    "   Explain how the `range()` function is used to generate a sequence of numbers within a specified range for loop iteration.\n",
    "\n",
    "3. **Summing Even Numbers:**\n",
    "   Write a `for` loop that calculates the sum of all even numbers from 1 to 20 (inclusive).\n",
    "\n",
    "4. **Nested Loop Purpose:**\n",
    "   Describe a scenario where you would need to use nested loops, and provide an example code snippet illustrating this situation.\n",
    "\n",
    "5. **Infinite Loop Prevention:**\n",
    "   How can you ensure that a `while` loop doesn't become an infinite loop unintentionally? Provide an example of how to implement this.\n",
    "\n",
    "6. **List Comprehension vs. `for` Loop:**\n",
    "   Compare and contrast using a list comprehension and a traditional `for` loop to generate a list of squares from 1 to 10.\n",
    "\n",
    "7. **Loop Control Statements:**\n",
    "   What are the purposes of `break` and `continue` statements in loops? Provide examples of each.\n",
    "\n",
    "8. **Looping Through a Dictionary:**\n",
    "   Explain how you can iterate through the keys and values of a dictionary using a `for` loop.\n",
    "\n",
    "9. **Prime Number Detection:**\n",
    "   Write a program using nested loops to determine if a given number is a prime number or not.\n",
    "\n",
    "10. **Looping with `enumerate()`:**\n",
    "    How can you use the `enumerate()` function to iterate through a list and simultaneously track the index of each element?"
   ]
  },
  {
   "cell_type": "markdown",
   "id": "e208a975",
   "metadata": {},
   "source": [
    "# Questions\n",
    "1. **Basic Loop Structure:**\n",
    "   Provide an example of a `for` loop that iterates through a list of names and prints each name.\n",
    "\n",
    "2. **Counting with `range()`:**\n",
    "   Write a `for` loop that prints the squares of numbers from 1 to 5 using the `range()` function.\n",
    "\n",
    "3. **Summing Even Numbers:**\n",
    "   Can you demonstrate how to use a `for` loop to find the sum of all odd numbers from 10 to 30 (inclusive)?\n",
    "\n",
    "4. **Nested Loop Purpose:**\n",
    "   Imagine you have a list of lists containing student scores for different subjects. Create a code snippet using nested loops to calculate the average score for each student.\n",
    "\n",
    "5. **Infinite Loop Prevention:**\n",
    "   Share an example of a `while` loop that prints the first 5 even numbers and terminates after that.\n",
    "\n",
    "6. **List Comprehension vs. `for` Loop:**\n",
    "   Generate a list of cubes of numbers from 1 to 7 using both a list comprehension and a traditional `for` loop.\n",
    "\n",
    "7. **Loop Control Statements:**\n",
    "   Write a `for` loop that iterates through a list of numbers and breaks the loop when a number greater than 10 is encountered.\n",
    "\n",
    "8. **Looping Through a Dictionary:**\n",
    "   Provide code that iterates through a dictionary of student names and their corresponding ages, printing each name and age.\n",
    "\n",
    "9. **Prime Number Detection:**\n",
    "   Create a program that takes an input number and uses nested loops to determine if it's a prime number or not.\n",
    "\n",
    "10. **Looping with `enumerate()`:**\n",
    "    Given a list of colors, use the `enumerate()` function in a loop to print each color along with its index in the list."
   ]
  },
  {
   "cell_type": "markdown",
   "id": "568b7282",
   "metadata": {},
   "source": [
    "\n",
    "# "
   ]
  },
  {
   "cell_type": "code",
   "execution_count": null,
   "id": "cd2262d8",
   "metadata": {},
   "outputs": [],
   "source": []
  }
 ],
 "metadata": {
  "kernelspec": {
   "display_name": "Python 3 (ipykernel)",
   "language": "python",
   "name": "python3"
  },
  "language_info": {
   "codemirror_mode": {
    "name": "ipython",
    "version": 3
   },
   "file_extension": ".py",
   "mimetype": "text/x-python",
   "name": "python",
   "nbconvert_exporter": "python",
   "pygments_lexer": "ipython3",
   "version": "3.10.9"
  }
 },
 "nbformat": 4,
 "nbformat_minor": 5
}
