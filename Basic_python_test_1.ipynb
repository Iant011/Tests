{
 "cells": [
  {
   "cell_type": "markdown",
   "id": "ba5e0aba",
   "metadata": {},
   "source": [
    "# Theory\n",
    "1. Define `*args` and `**kwargs` in the context of Python function declarations.\n",
    "2. How would you employ `*args` to send a variable count of positional arguments to a function?\n",
    "3. Elaborate on the utilization of `**kwargs` for transmitting a variable number of keyword arguments to a function.\n",
    "4. Can a single function incorporate both `*args` and `**kwargs`? If yes, elucidate the process.\n",
    "5. What scenarios might lead you to prefer utilizing `*args` over explicitly naming individual parameters within a function definition?\n",
    "6. Within a function, what steps would you take to access the values that were sent through `*args` and `**kwargs`?\n",
    "7. Given a function's parameter setup as `func(arg1, arg2, *args, kwarg1=None, **kwargs)`, what's the appropriate manner to call this function and provide all necessary arguments?\n",
    "8. What occurs if you furnish more positional arguments than there are placeholders designated by `*args` within a function?\n",
    "9. Using the `*args` and `**kwargs` syntax, how can you unpack a list and a dictionary, respectively, into function arguments?\n",
    "10. Describe a scenario where opting for `**kwargs` would be suitable but not `*args` in a function invocation."
   ]
  },
  {
   "cell_type": "markdown",
   "id": "d935e7b7",
   "metadata": {},
   "source": [
    "# Examples\n",
    "1. **Positional Argument Counter:**\n",
    "   Write a function that takes any number of arguments using `*args` and returns the count of arguments passed.\n",
    "\n",
    "2. **Keyword Argument Printer:**\n",
    "   Create a function that accepts keyword arguments using `**kwargs` and prints each key-value pair.\n",
    "\n",
    "3. **Combined Arguments:**\n",
    "   Design a function that utilizes both `*args` and `**kwargs` to accept a name (string) as a positional argument, followed by any number of hobbies (strings) as keyword arguments. Print the person's name and their hobbies.\n",
    "\n",
    "4. **Summation with Variable Arguments:**\n",
    "   Implement a function that takes a variable number of integer arguments using `*args` and returns their summation.\n",
    "\n",
    "5. **Max Value Identifier:**\n",
    "   Write a function that takes a variable number of arguments using `*args` and returns the maximum value among them.\n",
    "\n",
    "6. **Dictionary Builder:**\n",
    "   Create a function that accepts any number of keyword arguments using `**kwargs` and returns a dictionary with those key-value pairs.\n",
    "\n",
    "7. **Argument Concatenation:**\n",
    "   Design a function that takes a name as the first argument and then any number of string arguments using `*args`. Concatenate all the strings and return them along with the name.\n",
    "\n",
    "8. **Argument Averager with Default:**\n",
    "   Build a function that accepts numeric arguments using `*args` and calculates their average. The function should accept an optional `precision` keyword argument (defaulting to 2) that determines the decimal precision of the average.\n",
    "\n",
    "9. **Custom Print Function:**\n",
    "   Write a function that accepts a string message and any number of additional string arguments using `*args`. Print the message along with all the additional strings, separated by a space.\n",
    "\n",
    "10. **Function Dispatcher with `**kwargs`:**\n",
    "    Create a function dispatcher that takes the name of a mathematical operation as a string (e.g., \"add\", \"subtract\") and any required arguments as keyword arguments using `**kwargs`. Implement the specified operation and return the result."
   ]
  },
  {
   "cell_type": "markdown",
   "id": "7ebe6c8b",
   "metadata": {},
   "source": [
    "#\n",
    "submit your ipynb file on iantvaibhav@gmail.com this mail id. \n",
    "Note:- This mail is only for submiting your answers not for any other questions"
   ]
  },
  {
   "cell_type": "code",
   "execution_count": null,
   "id": "323ec23d",
   "metadata": {},
   "outputs": [],
   "source": []
  }
 ],
 "metadata": {
  "kernelspec": {
   "display_name": "Python 3 (ipykernel)",
   "language": "python",
   "name": "python3"
  },
  "language_info": {
   "codemirror_mode": {
    "name": "ipython",
    "version": 3
   },
   "file_extension": ".py",
   "mimetype": "text/x-python",
   "name": "python",
   "nbconvert_exporter": "python",
   "pygments_lexer": "ipython3",
   "version": "3.10.9"
  }
 },
 "nbformat": 4,
 "nbformat_minor": 5
}
