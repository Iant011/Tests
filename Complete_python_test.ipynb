{
 "cells": [
  {
   "cell_type": "code",
   "execution_count": 3,
   "id": "d170dd2c",
   "metadata": {},
   "outputs": [],
   "source": [
    "# Send your answers on iantvaibhav@gmail.com"
   ]
  },
  {
   "cell_type": "markdown",
   "id": "3846e664",
   "metadata": {},
   "source": [
    "# Question 1: Variables and Data Types\n",
    " Declare a variable 'name' and assign your name to it."
   ]
  },
  {
   "cell_type": "code",
   "execution_count": null,
   "id": "5b0c8f91",
   "metadata": {},
   "outputs": [],
   "source": []
  },
  {
   "cell_type": "markdown",
   "id": "b1076792",
   "metadata": {},
   "source": [
    "# Question 2: String Manipulation\n",
    " Create a new string 'greeting' by concatenating 'name' with \", welcome to Python!\"."
   ]
  },
  {
   "cell_type": "code",
   "execution_count": null,
   "id": "45ef19f5",
   "metadata": {},
   "outputs": [],
   "source": []
  },
  {
   "cell_type": "markdown",
   "id": "8bbc211a",
   "metadata": {},
   "source": [
    "# Question 3: Lists\n",
    " Create a list 'fruits' containing the names of three fruits.\n"
   ]
  },
  {
   "cell_type": "code",
   "execution_count": null,
   "id": "ad11f398",
   "metadata": {},
   "outputs": [],
   "source": []
  },
  {
   "cell_type": "markdown",
   "id": "e2b76686",
   "metadata": {},
   "source": [
    "# Question 4: List Manipulation\n",
    " Add \"orange\" to the 'fruits' list."
   ]
  },
  {
   "cell_type": "code",
   "execution_count": null,
   "id": "46ae7201",
   "metadata": {},
   "outputs": [],
   "source": []
  },
  {
   "cell_type": "markdown",
   "id": "04657292",
   "metadata": {},
   "source": [
    "# Question 5: Conditional Statements\n",
    " Check if the length of 'fruits' is greater than 3 and print \"Many fruits!\" if true, otherwise print \"Not many fruits.\""
   ]
  },
  {
   "cell_type": "code",
   "execution_count": null,
   "id": "3e2de5f3",
   "metadata": {},
   "outputs": [],
   "source": []
  },
  {
   "cell_type": "markdown",
   "id": "0f87d238",
   "metadata": {},
   "source": [
    "# Question 6: Loops\n",
    " Using a for loop, print each fruit in the 'fruits' list."
   ]
  },
  {
   "cell_type": "code",
   "execution_count": null,
   "id": "757978df",
   "metadata": {},
   "outputs": [],
   "source": []
  },
  {
   "cell_type": "markdown",
   "id": "bb2e73be",
   "metadata": {},
   "source": [
    "# Question 7: Functions\n",
    " Define a function 'multiply' that takes two parameters, 'a' and 'b', and returns their product."
   ]
  },
  {
   "cell_type": "code",
   "execution_count": null,
   "id": "1782c727",
   "metadata": {},
   "outputs": [],
   "source": []
  },
  {
   "cell_type": "markdown",
   "id": "5df5a4d2",
   "metadata": {},
   "source": [
    "# Question 8: Function Call\n",
    " Call the 'multiply' function with arguments 5 and 3, and assign the result to a variable 'result'."
   ]
  },
  {
   "cell_type": "code",
   "execution_count": null,
   "id": "b6874614",
   "metadata": {},
   "outputs": [],
   "source": []
  },
  {
   "cell_type": "markdown",
   "id": "bd32e5ee",
   "metadata": {},
   "source": [
    "# Question 9: Dictionaries\n",
    " Create a dictionary 'person' with keys 'name', 'age', and 'city' with corresponding values."
   ]
  },
  {
   "cell_type": "code",
   "execution_count": null,
   "id": "4cd8abe7",
   "metadata": {},
   "outputs": [],
   "source": []
  },
  {
   "cell_type": "markdown",
   "id": "bd5718a1",
   "metadata": {},
   "source": [
    "# Question 10: Exception Handling\n",
    " Try to divide 10 by 0 and handle the ZeroDivisionError by printing \"Cannot divide by zero.\""
   ]
  },
  {
   "cell_type": "code",
   "execution_count": null,
   "id": "d3d3784a",
   "metadata": {},
   "outputs": [],
   "source": []
  },
  {
   "cell_type": "markdown",
   "id": "932283bb",
   "metadata": {},
   "source": [
    "# Question 12: File Handling\n",
    " Create a new text file named 'my_file.txt' and write \"Hello, Python!\" to it."
   ]
  },
  {
   "cell_type": "code",
   "execution_count": null,
   "id": "5d36d65f",
   "metadata": {},
   "outputs": [],
   "source": []
  },
  {
   "cell_type": "markdown",
   "id": "513dcda5",
   "metadata": {},
   "source": [
    "# Question 13: Classes and Objects\n",
    " Define a class 'Car' with an '__init__' method that initializes 'make' and 'model' attributes."
   ]
  },
  {
   "cell_type": "code",
   "execution_count": null,
   "id": "152829a5",
   "metadata": {},
   "outputs": [],
   "source": []
  },
  {
   "cell_type": "markdown",
   "id": "adb28b25",
   "metadata": {},
   "source": [
    "# Question 14: Object Creation\n",
    " Create an instance of the 'Car' class with make=\"Toyota\" and model=\"Camry\"."
   ]
  },
  {
   "cell_type": "code",
   "execution_count": null,
   "id": "053b3494",
   "metadata": {},
   "outputs": [],
   "source": []
  },
  {
   "cell_type": "markdown",
   "id": "9df83a3e",
   "metadata": {},
   "source": [
    "# Question 17: List Comprehension\n",
    " Create a list 'squared_numbers' containing the squares of numbers from 1 to 5 using list comprehension."
   ]
  },
  {
   "cell_type": "code",
   "execution_count": null,
   "id": "6ac5278a",
   "metadata": {},
   "outputs": [],
   "source": []
  },
  {
   "cell_type": "markdown",
   "id": "b86a0d7f",
   "metadata": {},
   "source": [
    "# Question 18: Lambda Functions\n",
    " Define a lambda function 'cube' that cubes its input 'x'"
   ]
  },
  {
   "cell_type": "code",
   "execution_count": null,
   "id": "697321fc",
   "metadata": {},
   "outputs": [],
   "source": []
  },
  {
   "cell_type": "markdown",
   "id": "964e6bcc",
   "metadata": {},
   "source": [
    " # Question 19: Recursion \n",
    "    Create one fun of factorial by using recursion algorithm"
   ]
  },
  {
   "cell_type": "code",
   "execution_count": null,
   "id": "72d30011",
   "metadata": {},
   "outputs": [],
   "source": []
  },
  {
   "cell_type": "markdown",
   "id": "001dfc02",
   "metadata": {},
   "source": [
    "# Question 20: Module\n",
    " Create one module by any code named IANT save it in your current dir and import it "
   ]
  },
  {
   "cell_type": "code",
   "execution_count": null,
   "id": "d3ef0659",
   "metadata": {},
   "outputs": [],
   "source": []
  }
 ],
 "metadata": {
  "kernelspec": {
   "display_name": "Python 3 (ipykernel)",
   "language": "python",
   "name": "python3"
  },
  "language_info": {
   "codemirror_mode": {
    "name": "ipython",
    "version": 3
   },
   "file_extension": ".py",
   "mimetype": "text/x-python",
   "name": "python",
   "nbconvert_exporter": "python",
   "pygments_lexer": "ipython3",
   "version": "3.10.9"
  }
 },
 "nbformat": 4,
 "nbformat_minor": 5
}
